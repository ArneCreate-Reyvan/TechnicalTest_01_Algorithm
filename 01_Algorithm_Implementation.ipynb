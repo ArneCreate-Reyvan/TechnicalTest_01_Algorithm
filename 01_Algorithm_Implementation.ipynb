{
  "nbformat": 4,
  "nbformat_minor": 0,
  "metadata": {
    "colab": {
      "provenance": []
    },
    "kernelspec": {
      "name": "python3",
      "display_name": "Python 3"
    },
    "language_info": {
      "name": "python"
    }
  },
  "cells": [
    {
      "cell_type": "code",
      "execution_count": 5,
      "metadata": {
        "id": "aFhcdlyuJHDl",
        "colab": {
          "base_uri": "https://localhost:8080/"
        },
        "outputId": "6ca84531-5c8b-4173-fc1e-f42b4a446259"
      },
      "outputs": [
        {
          "output_type": "stream",
          "name": "stdout",
          "text": [
            "Enter numbers separated by spaces: 11 19 22 73\n",
            "Inputted array: [11, 19, 22, 73]\n",
            "Sorted array: [11, 19, 22, 73]\n"
          ]
        }
      ],
      "source": [
        "def merge_sort(arr):\n",
        "    if len(arr) > 1:\n",
        "        mid = len(arr) // 2\n",
        "        left_half = arr[:mid]\n",
        "        right_half = arr[mid:]\n",
        "\n",
        "        merge_sort(left_half)\n",
        "        merge_sort(right_half)\n",
        "\n",
        "        i = j = k = 0\n",
        "\n",
        "        while i < len(left_half) and j < len(right_half):\n",
        "            if left_half[i] < right_half[j]:\n",
        "                arr[k] = left_half[i]\n",
        "                i += 1\n",
        "            else:\n",
        "                arr[k] = right_half[j]\n",
        "                j += 1\n",
        "            k += 1\n",
        "\n",
        "        while i < len(left_half):\n",
        "            arr[k] = left_half[i]\n",
        "            i += 1\n",
        "            k += 1\n",
        "\n",
        "        while j < len(right_half):\n",
        "            arr[k] = right_half[j]\n",
        "            j += 1\n",
        "            k += 1\n",
        "\n",
        "    return arr\n",
        "\n",
        "\n",
        "arr = list(map(int, input(\"Enter numbers separated by spaces: \").split()))\n",
        "print(f\"Inputted array: {arr}\")\n",
        "sorted_arr = merge_sort(arr.copy())\n",
        "print(f\"Sorted array: {sorted_arr}\")\n"
      ]
    }
  ]
}